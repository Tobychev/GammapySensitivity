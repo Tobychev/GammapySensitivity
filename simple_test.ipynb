{
 "cells": [
  {
   "cell_type": "code",
   "execution_count": 1,
   "id": "9ae2b3b6-822f-4670-89f6-ae8a99584ca3",
   "metadata": {},
   "outputs": [],
   "source": [
    "from pathlib import Path\n",
    "\n",
    "from astropy.coordinates import SkyCoord\n",
    "from gammapy.data import FixedPointingInfo, Observation, observatory_locations\n",
    "from gammapy.datasets import SpectrumDataset, SpectrumDatasetOnOff\n",
    "from gammapy.estimators import SensitivityEstimator\n",
    "from gammapy.irf import (\n",
    "    Background3D,\n",
    "    EnergyDispersion2D,\n",
    "    RadMax2D,\n",
    "    load_irf_dict_from_file,\n",
    ")\n",
    "from gammapy.makers import SpectrumDatasetMaker\n",
    "from gammapy.maps import MapAxis, RegionGeom\n",
    "from regions import CircleSkyRegion, PointSkyRegion"
   ]
  },
  {
   "cell_type": "code",
   "execution_count": 2,
   "id": "43d03a7e-d73f-48af-ada0-39968c8e6e4a",
   "metadata": {},
   "outputs": [],
   "source": [
    "import astropy.units as u\n",
    "import matplotlib.pyplot as plt\n",
    "import numpy as np\n",
    "import uproot\n",
    "from astropy.visualization import quantity_support\n",
    "\n",
    "quantity_support();"
   ]
  },
  {
   "cell_type": "code",
   "execution_count": 3,
   "id": "186818ce-7b22-4c35-b9b5-43194c468253",
   "metadata": {},
   "outputs": [],
   "source": [
    "prod5_irf_point_fits = \"./IRFs/Prod5-South-20deg-SouthAz-14MSTs37SSTs.180000s_pointlike.fits\""
   ]
  },
  {
   "cell_type": "code",
   "execution_count": 4,
   "id": "f3aeac57-3962-4a40-b4c4-2054431d7008",
   "metadata": {},
   "outputs": [
    {
     "name": "stdout",
     "output_type": "stream",
     "text": [
      "aeff EffectiveAreaTable2D\n",
      "--------------------\n",
      "\n",
      "  axes  : ['energy_true', 'offset']\n",
      "  shape : (42, 6)\n",
      "  ndim  : 2\n",
      "  unit  : m2\n",
      "  dtype : >f4\n",
      "\n",
      "edisp EnergyDispersion2D\n",
      "------------------\n",
      "\n",
      "  axes  : ['energy_true', 'migra', 'offset']\n",
      "  shape : (300, 300, 6)\n",
      "  ndim  : 3\n",
      "  unit  : \n",
      "  dtype : >f4\n",
      "\n",
      "bkg Background2D\n",
      "------------\n",
      "\n",
      "  axes  : ['energy', 'offset']\n",
      "  shape : (21, 6)\n",
      "  ndim  : 2\n",
      "  unit  : 1 / (MeV s sr)\n",
      "  dtype : >f4\n",
      "\n",
      "rad_max RadMax2D\n",
      "--------\n",
      "\n",
      "  axes  : ['energy', 'offset']\n",
      "  shape : (500, 6)\n",
      "  ndim  : 2\n",
      "  unit  : deg\n",
      "  dtype : >f4\n",
      "\n"
     ]
    }
   ],
   "source": [
    "irfs = load_irf_dict_from_file(prod5_irf_point_fits)\n",
    "for key, irf in irfs.items():\n",
    "    print(key, irf)"
   ]
  },
  {
   "cell_type": "markdown",
   "id": "428c37f1-32aa-4eee-9fde-52335e6cb6fb",
   "metadata": {},
   "source": [
    "The SpectrumMaker docs say it needs Background3D not Background2D so we can try converting here to see if that fixes things. \n",
    "\n",
    "Edit: no it does not"
   ]
  },
  {
   "cell_type": "code",
   "execution_count": null,
   "id": "9a6a47ed-2015-413a-9d0b-bfb65176d95c",
   "metadata": {},
   "outputs": [],
   "source": [
    "#irfs['bkg']= irfs['bkg'].to_3d()\n",
    "#irfs['bkg']"
   ]
  },
  {
   "cell_type": "code",
   "execution_count": null,
   "id": "936f561e-beef-4562-9d7a-e301c1b5ab5b",
   "metadata": {},
   "outputs": [],
   "source": [
    "#irfs['bkg'].peek()"
   ]
  },
  {
   "cell_type": "code",
   "execution_count": 6,
   "id": "f7918297-8e89-4f33-9244-f4b1b417fe46",
   "metadata": {},
   "outputs": [],
   "source": [
    "reco_energy_bins = [\n",
    "    0.012589254117941675,\n",
    "    0.0199526231496888,\n",
    "    0.03162277660168379,\n",
    "    0.05011872336272722,\n",
    "    0.07943282347242814,\n",
    "    0.12589254117941667,\n",
    "    0.1995262314968879,\n",
    "    0.3162277660168378,\n",
    "    0.501187233627272,\n",
    "    0.7943282347242809,\n",
    "    1.2589254117941662,\n",
    "    1.9952623149688768,\n",
    "    3.162277660168376,\n",
    "    5.011872336272719,\n",
    "    7.943282347242805,\n",
    "    12.58925411794165,\n",
    "    19.95262314968877,\n",
    "    31.62277660168376,\n",
    "    50.118723362727145,\n",
    "    79.43282347242797,\n",
    "    125.89254117941648,\n",
    "    199.52623149688787,\n",
    "] * u.TeV\n",
    "conf = {}\n",
    "location = observatory_locations[\"cta_south\"]\n",
    "livetime = conf.get(\"livetime\", 50.0 * u.h)"
   ]
  },
  {
   "cell_type": "code",
   "execution_count": 7,
   "id": "113e71c6-1063-497e-b59e-f14038745df8",
   "metadata": {},
   "outputs": [],
   "source": [
    "energy_axis_reco = MapAxis.from_nodes(\n",
    "    reco_energy_bins, interp=\"log\", name=\"energy\"\n",
    ").to_node_type(\"edges\")\n",
    "\n",
    "energy_axis_true = MapAxis.from_energy_bounds(\n",
    "    conf.get(\"E_true_min\", 0.01 * u.TeV),\n",
    "    conf.get(\"E_true_max\", 350 * u.TeV),\n",
    "    nbin=conf.get(\"E_true_nbin\", 150),\n",
    "    name=\"energy_true\",\n",
    ")\n",
    "pointing = SkyCoord(\n",
    "    ra=conf.get(\"point_ra\", 0 * u.deg), dec=conf.get(\"point_dec\", 0 * u.deg)\n",
    ")\n",
    "offset = conf.get(\"point_offset\", 0.5 * u.deg)\n",
    "offset_dir = conf.get(\"point_offset_dir\", 0.0 * u.deg)\n",
    "\n",
    "pointing_info = FixedPointingInfo(fixed_icrs=pointing)\n",
    "source_position = pointing.directional_offset_by(offset_dir, offset)\n",
    "on_region = PointSkyRegion(source_position)"
   ]
  },
  {
   "cell_type": "code",
   "execution_count": 8,
   "id": "3846222c-c20f-44fd-a620-522f9fdfe751",
   "metadata": {},
   "outputs": [
    {
     "name": "stdout",
     "output_type": "stream",
     "text": [
      "pointing_info=<gammapy.data.pointing.FixedPointingInfo object at 0x1530a0950>\n",
      "source_position=<SkyCoord (ICRS): (ra, dec) in deg\n",
      "    (0., 0.5)>\n",
      "on_region=<PointSkyRegion(center=<SkyCoord (ICRS): (ra, dec) in deg\n",
      "    (0., 0.5)>)>\n"
     ]
    }
   ],
   "source": [
    "print(f\"{pointing_info=}\")\n",
    "print(f\"{source_position=}\")\n",
    "print(f\"{on_region=}\")"
   ]
  },
  {
   "cell_type": "code",
   "execution_count": 9,
   "id": "beb1cb44-e841-43d0-b38e-80aa449e3aac",
   "metadata": {},
   "outputs": [
    {
     "name": "stdout",
     "output_type": "stream",
     "text": [
      "geometry RegionGeom\n",
      "\n",
      "\tregion     : PointSkyRegion\n",
      "\taxes       : ['lon', 'lat', 'energy']\n",
      "\tshape      : (1, 1, 22)\n",
      "\tndim       : 3\n",
      "\tframe      : icrs\n",
      "\tcenter     : 0.0 deg, 0.5 deg\n",
      "\n"
     ]
    }
   ],
   "source": [
    "geom = RegionGeom.create(region=on_region, axes=[energy_axis_reco])\n",
    "empty_dataset = SpectrumDataset.create(geom=geom, energy_axis_true=energy_axis_true)\n",
    "\n",
    "print(\"geometry\", geom)"
   ]
  },
  {
   "cell_type": "code",
   "execution_count": 10,
   "id": "ce557172-73b9-4c31-9a36-36d0b264c26b",
   "metadata": {},
   "outputs": [
    {
     "data": {
      "text/html": [
       "<pre>Observation\n",
       "\n",
       "\tobs id            : 0 \n",
       " \ttstart            : 51544.00\n",
       "\ttstop             : 51546.08\n",
       "\tduration          : 180000.00 s\n",
       "\tpointing (icrs)   : 0.0 deg, 0.0 deg\n",
       "\n",
       "\tdeadtime fraction : 0.0%\n",
       "</pre>"
      ],
      "text/plain": [
       "<gammapy.data.observations.Observation at 0x152ed5810>"
      ]
     },
     "execution_count": 10,
     "metadata": {},
     "output_type": "execute_result"
    }
   ],
   "source": [
    "obs = Observation.create(\n",
    "    pointing=pointing_info, irfs=irfs, livetime=livetime, location=location\n",
    ")\n",
    "obs"
   ]
  },
  {
   "cell_type": "code",
   "execution_count": 11,
   "id": "5532942b-c77f-4081-9c20-13e2059a23c1",
   "metadata": {},
   "outputs": [
    {
     "data": {
      "text/html": [
       "<pre>RadMax2D\n",
       "--------\n",
       "\n",
       "  axes  : [&#x27;energy&#x27;, &#x27;offset&#x27;]\n",
       "  shape : (500, 6)\n",
       "  ndim  : 2\n",
       "  unit  : deg\n",
       "  dtype : &gt;f4\n",
       "</pre>"
      ],
      "text/plain": [
       "<gammapy.irf.rad_max.RadMax2D at 0x153840350>"
      ]
     },
     "execution_count": 11,
     "metadata": {},
     "output_type": "execute_result"
    }
   ],
   "source": [
    "obs.rad_max"
   ]
  },
  {
   "cell_type": "code",
   "execution_count": 12,
   "id": "ed4e50ca-07c6-4971-8c79-a2a2f9e5dccf",
   "metadata": {},
   "outputs": [
    {
     "data": {
      "text/plain": [
       "<matplotlib.colorbar.Colorbar at 0x1538d8510>"
      ]
     },
     "execution_count": 12,
     "metadata": {},
     "output_type": "execute_result"
    },
    {
     "data": {
      "image/png": "[encoded data removed]",
      "text/plain": [
       "<Figure size 640x480 with 2 Axes>"
      ]
     },
     "metadata": {},
     "output_type": "display_data"
    }
   ],
   "source": [
    "radmax = obs.rad_max.data.T\n",
    "plt.semilogx()\n",
    "plt.pcolormesh(\n",
    "    obs.rad_max.axes[0].as_plot_edges, obs.rad_max.axes[1].as_plot_edges, radmax\n",
    ")\n",
    "plt.colorbar()"
   ]
  },
  {
   "cell_type": "code",
   "execution_count": null,
   "id": "0741e19d-0e18-4efd-9b2b-64e2d40c54bf",
   "metadata": {},
   "outputs": [],
   "source": [
    "irfs[\"bkg\"].peek()"
   ]
  },
  {
   "cell_type": "code",
   "execution_count": 13,
   "id": "d48dafb1-ddb6-4f5a-b20c-8a1bd8ddf315",
   "metadata": {},
   "outputs": [],
   "source": [
    "spectrum_maker = SpectrumDatasetMaker(\n",
    "    selection=[\"exposure\", \"background\",\"edisp\"],\n",
    "    containment_correction=False,\n",
    ")\n",
    "dataset = spectrum_maker.run(empty_dataset, obs)"
   ]
  },
  {
   "cell_type": "code",
   "execution_count": 14,
   "id": "983bdefb-596a-4ba8-bb1f-b12378798169",
   "metadata": {},
   "outputs": [
    {
     "data": {
      "text/html": [
       "<pre>SpectrumDataset\n",
       "---------------\n",
       "\n",
       "  Name                            : 4GNzacBO \n",
       "\n",
       "  Total counts                    : 0 \n",
       "  Total background counts         : 0.00\n",
       "  Total excess counts             : 0.00\n",
       "\n",
       "  Predicted counts                : 0.00\n",
       "  Predicted background counts     : 0.00\n",
       "  Predicted excess counts         : nan\n",
       "\n",
       "  Exposure min                    : 5.89e+05 m2 s\n",
       "  Exposure max                    : 8.81e+11 m2 s\n",
       "\n",
       "  Number of total bins            : 22 \n",
       "  Number of fit bins              : 22 \n",
       "\n",
       "  Fit statistic type              : cash\n",
       "  Fit statistic value (-2 log(L)) : nan\n",
       "\n",
       "  Number of models                : 0 \n",
       "  Number of parameters            : 0\n",
       "  Number of free parameters       : 0\n",
       "\n",
       "</pre>"
      ],
      "text/plain": [
       "<gammapy.datasets.spectrum.SpectrumDataset at 0x153b22d90>"
      ]
     },
     "execution_count": 14,
     "metadata": {},
     "output_type": "execute_result"
    },
    {
     "data": {
      "image/png": "[encoded data removed]",
      "text/plain": [
       "<Figure size 640x480 with 1 Axes>"
      ]
     },
     "metadata": {},
     "output_type": "display_data"
    }
   ],
   "source": [
    "dataset.exposure.plot()\n",
    "dataset"
   ]
  },
  {
   "cell_type": "markdown",
   "id": "a88101de-821e-4b75-92f7-d6371b788388",
   "metadata": {},
   "source": [
    "No background counts are computed for some reason. "
   ]
  },
  {
   "cell_type": "code",
   "execution_count": 15,
   "id": "5d51257f-7610-45ea-9c2f-8dd96e19b078",
   "metadata": {},
   "outputs": [
    {
     "name": "stderr",
     "output_type": "stream",
     "text": [
      "/Users/kkosack/miniconda3/envs/gammapy-1.2/lib/python3.11/site-packages/gammapy/maps/region/ndmap.py:130: UserWarning: Data has no positive values, and therefore cannot be log-scaled.\n",
      "  ax.set_yscale(\"log\", nonpositive=\"clip\")\n"
     ]
    },
    {
     "data": {
      "text/plain": [
       "<Axes: xlabel='Energy [$\\\\mathrm{TeV}$]', ylabel='$\\\\mathrm{}$'>"
      ]
     },
     "execution_count": 15,
     "metadata": {},
     "output_type": "execute_result"
    },
    {
     "data": {
      "image/png": "[encoded data removed]",
      "text/plain": [
       "<Figure size 640x480 with 1 Axes>"
      ]
     },
     "metadata": {},
     "output_type": "display_data"
    }
   ],
   "source": [
    "dataset.background.plot()"
   ]
  },
  {
   "cell_type": "code",
   "execution_count": 16,
   "id": "bd815b95-a314-4d9e-986f-1025c313c7c7",
   "metadata": {},
   "outputs": [
    {
     "name": "stderr",
     "output_type": "stream",
     "text": [
      "/Users/kkosack/miniconda3/envs/gammapy-1.2/lib/python3.11/site-packages/gammapy/stats/counts_statistic.py:475: RuntimeWarning: invalid value encountered in scalar divide\n",
      "  alpha = self.n_bkg.sum(axis=axis) / n_off\n",
      "/Users/kkosack/miniconda3/envs/gammapy-1.2/lib/python3.11/site-packages/gammapy/stats/counts_statistic.py:475: RuntimeWarning: invalid value encountered in scalar divide\n",
      "  alpha = self.n_bkg.sum(axis=axis) / n_off\n"
     ]
    },
    {
     "data": {
      "text/html": [
       "<pre>SpectrumDatasetOnOff\n",
       "--------------------\n",
       "\n",
       "  Name                            : 4SsxHh0Q \n",
       "\n",
       "  Total counts                    : 0 \n",
       "  Total background counts         : 0.00\n",
       "  Total excess counts             : nan\n",
       "\n",
       "  Predicted counts                : 0.00\n",
       "  Predicted background counts     : 0.00\n",
       "  Predicted excess counts         : nan\n",
       "\n",
       "  Exposure min                    : 5.89e+05 m2 s\n",
       "  Exposure max                    : 8.81e+11 m2 s\n",
       "\n",
       "  Number of total bins            : 22 \n",
       "  Number of fit bins              : 22 \n",
       "\n",
       "  Fit statistic type              : wstat\n",
       "  Fit statistic value (-2 log(L)) : 0.00\n",
       "\n",
       "  Number of models                : 0 \n",
       "  Number of parameters            : 0\n",
       "  Number of free parameters       : 0\n",
       "\n",
       "  Total counts_off                : 0 \n",
       "  Acceptance                      : 22 \n",
       "  Acceptance off                  : 110 \n",
       "</pre>"
      ],
      "text/plain": [
       "<gammapy.datasets.spectrum.SpectrumDatasetOnOff at 0x153e9ea90>"
      ]
     },
     "execution_count": 16,
     "metadata": {},
     "output_type": "execute_result"
    }
   ],
   "source": [
    "dataset_on_off = SpectrumDatasetOnOff.from_spectrum_dataset(\n",
    "    dataset=dataset, acceptance=1, acceptance_off=5\n",
    ")\n",
    "dataset_on_off"
   ]
  },
  {
   "cell_type": "code",
   "execution_count": 17,
   "id": "825c33fa-7085-48a1-ad08-4b36f97c2bf3",
   "metadata": {},
   "outputs": [
    {
     "name": "stderr",
     "output_type": "stream",
     "text": [
      "/Users/kkosack/miniconda3/envs/gammapy-1.2/lib/python3.11/site-packages/astropy/units/quantity.py:671: RuntimeWarning: divide by zero encountered in divide\n",
      "  result = super().__array_ufunc__(function, method, *arrays, **kwargs)\n",
      "WARNING:root:Table column name energy will be deprecated by e_ref since v1.2\n"
     ]
    },
    {
     "data": {
      "text/html": [
       "<div><i>Table length=22</i>\n",
       "<table id=\"table5701353232\" class=\"table-striped table-bordered table-condensed\">\n",
       "<thead><tr><th>energy</th><th>e_ref</th><th>e_min</th><th>e_max</th><th>e2dnde</th><th>excess</th><th>background</th><th>criterion</th></tr></thead>\n",
       "<thead><tr><th>TeV</th><th>TeV</th><th>TeV</th><th>TeV</th><th>erg / (s cm2)</th><th></th><th></th><th></th></tr></thead>\n",
       "<thead><tr><th>float64</th><th>float64</th><th>float64</th><th>float64</th><th>float64</th><th>float64</th><th>float64</th><th>bytes12</th></tr></thead>\n",
       "<tr><td>0.0125893</td><td>0.0125893</td><td>0.01</td><td>0.0158489</td><td>inf</td><td>10</td><td>0</td><td>gamma</td></tr>\n",
       "<tr><td>0.0199526</td><td>0.0199526</td><td>0.0158489</td><td>0.0251189</td><td>inf</td><td>10</td><td>0</td><td>gamma</td></tr>\n",
       "<tr><td>0.0316228</td><td>0.0316228</td><td>0.0251189</td><td>0.0398107</td><td>3.63773e-12</td><td>10</td><td>0</td><td>gamma</td></tr>\n",
       "<tr><td>0.0501187</td><td>0.0501187</td><td>0.0398107</td><td>0.0630957</td><td>9.58025e-14</td><td>10</td><td>0</td><td>gamma</td></tr>\n",
       "<tr><td>0.0794328</td><td>0.0794328</td><td>0.0630957</td><td>0.1</td><td>1.70231e-14</td><td>10</td><td>0</td><td>gamma</td></tr>\n",
       "<tr><td>0.125893</td><td>0.125893</td><td>0.1</td><td>0.158489</td><td>1.94857e-14</td><td>10</td><td>0</td><td>gamma</td></tr>\n",
       "<tr><td>0.199526</td><td>0.199526</td><td>0.158489</td><td>0.251189</td><td>2.57517e-14</td><td>10</td><td>0</td><td>gamma</td></tr>\n",
       "<tr><td>0.316228</td><td>0.316228</td><td>0.251189</td><td>0.398107</td><td>3.0329e-14</td><td>10</td><td>0</td><td>gamma</td></tr>\n",
       "<tr><td>0.501187</td><td>0.501187</td><td>0.398107</td><td>0.630957</td><td>3.4953e-14</td><td>10</td><td>0</td><td>gamma</td></tr>\n",
       "<tr><td>0.794328</td><td>0.794328</td><td>0.630957</td><td>1</td><td>3.99621e-14</td><td>10</td><td>0</td><td>gamma</td></tr>\n",
       "<tr><td>1.25893</td><td>1.25893</td><td>1</td><td>1.58489</td><td>4.10837e-14</td><td>10</td><td>0</td><td>gamma</td></tr>\n",
       "<tr><td>1.99526</td><td>1.99526</td><td>1.58489</td><td>2.51189</td><td>4.47731e-14</td><td>10</td><td>0</td><td>gamma</td></tr>\n",
       "<tr><td>3.16228</td><td>3.16228</td><td>2.51189</td><td>3.98107</td><td>5.59204e-14</td><td>10</td><td>0</td><td>gamma</td></tr>\n",
       "<tr><td>5.01187</td><td>5.01187</td><td>3.98107</td><td>6.30957</td><td>7.08958e-14</td><td>10</td><td>0</td><td>gamma</td></tr>\n",
       "<tr><td>7.94328</td><td>7.94328</td><td>6.30957</td><td>10</td><td>8.21431e-14</td><td>10</td><td>0</td><td>gamma</td></tr>\n",
       "<tr><td>12.5893</td><td>12.5893</td><td>10</td><td>15.8489</td><td>1.19729e-13</td><td>10</td><td>0</td><td>gamma</td></tr>\n",
       "<tr><td>19.9526</td><td>19.9526</td><td>15.8489</td><td>25.1189</td><td>1.73015e-13</td><td>10</td><td>0</td><td>gamma</td></tr>\n",
       "<tr><td>31.6228</td><td>31.6228</td><td>25.1189</td><td>39.8107</td><td>2.27505e-13</td><td>10</td><td>0</td><td>gamma</td></tr>\n",
       "<tr><td>50.1187</td><td>50.1187</td><td>39.8107</td><td>63.0957</td><td>4.06198e-13</td><td>10</td><td>0</td><td>gamma</td></tr>\n",
       "<tr><td>79.4328</td><td>79.4328</td><td>63.0957</td><td>100</td><td>5.85364e-13</td><td>10</td><td>0</td><td>gamma</td></tr>\n",
       "<tr><td>125.893</td><td>125.893</td><td>100</td><td>158.489</td><td>5.87902e-13</td><td>10</td><td>0</td><td>gamma</td></tr>\n",
       "<tr><td>199.526</td><td>199.526</td><td>158.489</td><td>251.189</td><td>2.75367e-12</td><td>10</td><td>0</td><td>gamma</td></tr>\n",
       "</table></div>"
      ],
      "text/plain": [
       "<Table length=22>\n",
       "  energy    e_ref     e_min     e_max       e2dnde     excess background criterion\n",
       "   TeV       TeV       TeV       TeV    erg / (s cm2)                             \n",
       " float64   float64   float64   float64     float64    float64  float64    bytes12 \n",
       "--------- --------- --------- --------- ------------- ------- ---------- ---------\n",
       "0.0125893 0.0125893      0.01 0.0158489           inf      10          0     gamma\n",
       "0.0199526 0.0199526 0.0158489 0.0251189           inf      10          0     gamma\n",
       "0.0316228 0.0316228 0.0251189 0.0398107   3.63773e-12      10          0     gamma\n",
       "0.0501187 0.0501187 0.0398107 0.0630957   9.58025e-14      10          0     gamma\n",
       "0.0794328 0.0794328 0.0630957       0.1   1.70231e-14      10          0     gamma\n",
       " 0.125893  0.125893       0.1  0.158489   1.94857e-14      10          0     gamma\n",
       " 0.199526  0.199526  0.158489  0.251189   2.57517e-14      10          0     gamma\n",
       " 0.316228  0.316228  0.251189  0.398107    3.0329e-14      10          0     gamma\n",
       " 0.501187  0.501187  0.398107  0.630957    3.4953e-14      10          0     gamma\n",
       " 0.794328  0.794328  0.630957         1   3.99621e-14      10          0     gamma\n",
       "  1.25893   1.25893         1   1.58489   4.10837e-14      10          0     gamma\n",
       "  1.99526   1.99526   1.58489   2.51189   4.47731e-14      10          0     gamma\n",
       "  3.16228   3.16228   2.51189   3.98107   5.59204e-14      10          0     gamma\n",
       "  5.01187   5.01187   3.98107   6.30957   7.08958e-14      10          0     gamma\n",
       "  7.94328   7.94328   6.30957        10   8.21431e-14      10          0     gamma\n",
       "  12.5893   12.5893        10   15.8489   1.19729e-13      10          0     gamma\n",
       "  19.9526   19.9526   15.8489   25.1189   1.73015e-13      10          0     gamma\n",
       "  31.6228   31.6228   25.1189   39.8107   2.27505e-13      10          0     gamma\n",
       "  50.1187   50.1187   39.8107   63.0957   4.06198e-13      10          0     gamma\n",
       "  79.4328   79.4328   63.0957       100   5.85364e-13      10          0     gamma\n",
       "  125.893   125.893       100   158.489   5.87902e-13      10          0     gamma\n",
       "  199.526   199.526   158.489   251.189   2.75367e-12      10          0     gamma"
      ]
     },
     "execution_count": 17,
     "metadata": {},
     "output_type": "execute_result"
    }
   ],
   "source": [
    "sensitivity_estimator = SensitivityEstimator(\n",
    "    gamma_min=10,\n",
    "    n_sigma=5,\n",
    "    bkg_syst_fraction=0.05,\n",
    ")\n",
    "gp_sensitivity_table = sensitivity_estimator.run(dataset_on_off)\n",
    "gp_sensitivity_table"
   ]
  },
  {
   "cell_type": "code",
   "execution_count": null,
   "id": "90d6edcc-0781-41c2-83da-7766fa8595e7",
   "metadata": {},
   "outputs": [],
   "source": []
  },
  {
   "cell_type": "code",
   "execution_count": null,
   "id": "ec4a7cd5-b1ff-4db5-aa7b-123bc25ec8ff",
   "metadata": {},
   "outputs": [],
   "source": []
  }
 ],
 "metadata": {
  "kernelspec": {
   "display_name": "gammapy-1.2",
   "language": "python",
   "name": "gammapy-1.2"
  },
  "language_info": {
   "codemirror_mode": {
    "name": "ipython",
    "version": 3
   },
   "file_extension": ".py",
   "mimetype": "text/x-python",
   "name": "python",
   "nbconvert_exporter": "python",
   "pygments_lexer": "ipython3",
   "version": "3.11.9"
  }
 },
 "nbformat": 4,
 "nbformat_minor": 5
}
