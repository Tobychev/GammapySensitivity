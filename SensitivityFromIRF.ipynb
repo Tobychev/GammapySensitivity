{
 "cells": [
  {
   "cell_type": "markdown",
   "id": "b4866b72-1d58-40a1-8389-0c967731147d",
   "metadata": {},
   "source": [
    "# Gammapy imports"
   ]
  },
  {
   "cell_type": "code",
   "execution_count": 2,
   "id": "9ae2b3b6-822f-4670-89f6-ae8a99584ca3",
   "metadata": {
    "execution": {
     "iopub.execute_input": "2024-08-05T14:08:48.490881Z",
     "iopub.status.busy": "2024-08-05T14:08:48.490673Z",
     "iopub.status.idle": "2024-08-05T14:08:49.639494Z",
     "shell.execute_reply": "2024-08-05T14:08:49.638923Z",
     "shell.execute_reply.started": "2024-08-05T14:08:48.490867Z"
    }
   },
   "outputs": [],
   "source": [
    "from gammapy.estimators import SensitivityEstimator\n",
    "from gammapy.data import FixedPointingInfo, Observation, observatory_locations\n",
    "from gammapy.datasets import SpectrumDataset, SpectrumDatasetOnOff\n",
    "from gammapy.makers import SpectrumDatasetMaker\n",
    "from gammapy.maps import MapAxis, RegionGeom\n",
    "from gammapy.irf import load_irf_dict_from_file, RadMax2D\n",
    "from astropy.coordinates import SkyCoord\n",
    "from regions import CircleSkyRegion, PointSkyRegion\n",
    "from pathlib import Path\n"
   ]
  },
  {
   "cell_type": "markdown",
   "id": "34435e9f-dfd7-4eb0-bab7-fa01676811a2",
   "metadata": {},
   "source": [
    "# Further imports"
   ]
  },
  {
   "cell_type": "code",
   "execution_count": 3,
   "id": "43d03a7e-d73f-48af-ada0-39968c8e6e4a",
   "metadata": {
    "execution": {
     "iopub.execute_input": "2024-08-05T14:08:49.640500Z",
     "iopub.status.busy": "2024-08-05T14:08:49.640250Z",
     "iopub.status.idle": "2024-08-05T14:08:49.681108Z",
     "shell.execute_reply": "2024-08-05T14:08:49.680649Z",
     "shell.execute_reply.started": "2024-08-05T14:08:49.640484Z"
    }
   },
   "outputs": [],
   "source": [
    "import uproot\n",
    "\n",
    "import astropy.units as u\n",
    "import matplotlib.pyplot as plt\n",
    "import numpy as np\n",
    "\n",
    "from astropy.visualization import quantity_support\n",
    "quantity_support();"
   ]
  },
  {
   "cell_type": "markdown",
   "id": "18b9e878-fff0-4e20-bc22-0ffa0eec767a",
   "metadata": {
    "execution": {
     "iopub.execute_input": "2024-07-29T14:27:11.445877Z",
     "iopub.status.busy": "2024-07-29T14:27:11.445666Z",
     "iopub.status.idle": "2024-07-29T14:27:11.448416Z",
     "shell.execute_reply": "2024-07-29T14:27:11.447919Z",
     "shell.execute_reply.started": "2024-07-29T14:27:11.445861Z"
    }
   },
   "source": [
    "# Sensitivity function"
   ]
  },
  {
   "cell_type": "code",
   "execution_count": 38,
   "id": "e08906c8-053b-45fb-b6b6-323bb2fb51fa",
   "metadata": {
    "execution": {
     "iopub.execute_input": "2024-08-05T16:23:29.465629Z",
     "iopub.status.busy": "2024-08-05T16:23:29.464941Z",
     "iopub.status.idle": "2024-08-05T16:23:29.486833Z",
     "shell.execute_reply": "2024-08-05T16:23:29.484719Z",
     "shell.execute_reply.started": "2024-08-05T16:23:29.465567Z"
    }
   },
   "outputs": [],
   "source": [
    "def gp_sensitivity_curve(irfs, root_e_bins, enclosure=True, conf={}):\n",
    "\n",
    "    energy_axis = MapAxis.from_nodes(root_e_bins,\n",
    "                                     interp=\"log\",\n",
    "                                     name=\"energy\").to_node_type(\"edges\")\n",
    "    energy_axis_true = MapAxis.from_energy_bounds(\n",
    "        conf.get(\"E_true_min\",\n",
    "                 0.01 * u.TeV),\n",
    "        conf.get(\"E_true_max\",\n",
    "                 100 * u.TeV),\n",
    "        nbin=conf.get(\"E_true_nbin\", 100),\n",
    "        name=\"energy_true\"\n",
    "    )\n",
    "    pointing = SkyCoord(ra=conf.get(\"point_ra\", 0 * u.deg), dec=conf.get(\"point_dec\", 0 * u.deg))\n",
    "    on_region_radius = conf.get(\"on_region\", 0.1 * u.deg)\n",
    "    offset = conf.get(\"point_offset\", 0.5 * u.deg)\n",
    "    offset_dir = conf.get(\"point_offset_dir\", 0.0 * u.deg)\n",
    "\n",
    "    pointing_info = FixedPointingInfo(fixed_icrs=pointing)\n",
    "    source_position = pointing.directional_offset_by(offset_dir, offset)\n",
    "    if enclosure:\n",
    "        on_region = CircleSkyRegion(source_position, radius=on_region_radius)\n",
    "    else:\n",
    "        on_region = PointSkyRegion(source_position)\n",
    "\n",
    "    geom = RegionGeom.create(on_region, axes=[energy_axis])\n",
    "    empty_dataset = SpectrumDataset.create(geom=geom, energy_axis_true=energy_axis_true)\n",
    "\n",
    "    location = observatory_locations[\"cta_south\"]\n",
    "    livetime = conf.get(\"livetime\", 50.0 * u.h)\n",
    "\n",
    "    obs = Observation.create(\n",
    "        pointing=pointing_info, irfs=irfs, livetime=livetime, location=location\n",
    "    )\n",
    "    spectrum_maker = SpectrumDatasetMaker(\n",
    "        selection=[\"exposure\", \"edisp\", \"background\"],\n",
    "        containment_correction=False,\n",
    "    )\n",
    "    dataset = spectrum_maker.run(empty_dataset, obs)\n",
    "    if enclosure:\n",
    "        containment = 0.68\n",
    "        dataset.exposure *= containment\n",
    "        on_radii = obs.psf.containment_radius(\n",
    "            energy_true=energy_axis.center, offset=offset, fraction=containment\n",
    "        )\n",
    "        factor = (1 - np.cos(on_radii)) / (1 - np.cos(on_region_radius))\n",
    "        dataset.background *= factor.value.reshape((-1, 1, 1))\n",
    "\n",
    "    dataset_on_off = SpectrumDatasetOnOff.from_spectrum_dataset(\n",
    "        dataset=dataset, acceptance=1, acceptance_off=5\n",
    "    )\n",
    "    sensitivity_estimator = SensitivityEstimator(\n",
    "        gamma_min=10,\n",
    "        n_sigma=5,\n",
    "        bkg_syst_fraction=0.05,\n",
    "    )\n",
    "    gp_sensitivity_table = sensitivity_estimator.run(dataset_on_off)\n",
    "    return gp_sensitivity_table[\"e_ref\"], gp_sensitivity_table[\"e2dnde\"], gp_sensitivity_table"
   ]
  },
  {
   "cell_type": "markdown",
   "id": "124d26df-de89-445f-a475-ff9ff1104615",
   "metadata": {},
   "source": [
    "# Load irfs"
   ]
  },
  {
   "cell_type": "code",
   "execution_count": 39,
   "id": "8e09c8e5-a8ce-4cb2-be37-b38a0e262f99",
   "metadata": {
    "execution": {
     "iopub.execute_input": "2024-08-05T16:23:30.619344Z",
     "iopub.status.busy": "2024-08-05T16:23:30.618656Z",
     "iopub.status.idle": "2024-08-05T16:23:30.632887Z",
     "shell.execute_reply": "2024-08-05T16:23:30.630847Z",
     "shell.execute_reply.started": "2024-08-05T16:23:30.619284Z"
    }
   },
   "outputs": [],
   "source": [
    "def load_sensitivity(root_file):\n",
    "    irf_root = uproot.open(root_file)\n",
    "    sens, sens_ebins = irf_root[\"DiffSens\"].to_numpy()\n",
    "    sens_ebins = 10**sens_ebins * u.TeV\n",
    "    sens = sens * u.erg / u.s / u.cm**2\n",
    "    return sens, sens_ebins\n",
    "\n",
    "\n",
    "def load_irf_with_rad_max(irf_file, root_file):\n",
    "    irf_root = uproot.open(root_file)\n",
    "    theta, log_E = irf_root['ThetaCut;1'].to_numpy()\n",
    "    Eaxes = MapAxis(10**log_E, name=\"energy\", unit=\"TeV\")\n",
    "    offset = MapAxis([0, 5], name=\"offset\", unit=\"degree\")\n",
    "\n",
    "    irf_table = load_irf_dict_from_file(irf_file)\n",
    "    irf_table[\"rad_max\"] = RadMax2D(\n",
    "        data=theta[..., np.newaxis],\n",
    "        axes=[Eaxes, offset],\n",
    "        unit=\"deg\",\n",
    "        interp_kwargs={\"method\": \"nearest\", \"fill_value\": None})\n",
    "    return irf_table"
   ]
  },
  {
   "cell_type": "code",
   "execution_count": 40,
   "id": "186818ce-7b22-4c35-b9b5-43194c468253",
   "metadata": {
    "execution": {
     "iopub.execute_input": "2024-08-05T16:23:32.008671Z",
     "iopub.status.busy": "2024-08-05T16:23:32.007091Z",
     "iopub.status.idle": "2024-08-05T16:23:32.017763Z",
     "shell.execute_reply": "2024-08-05T16:23:32.015465Z",
     "shell.execute_reply.started": "2024-08-05T16:23:32.008603Z"
    }
   },
   "outputs": [],
   "source": [
    "IRF_ROOT = Path(\"./IRFs/\")\n",
    "\n",
    "prod3_irf_fits = IRF_ROOT / \"Prod3_South_z20_S_50h_irf_file.fits\"\n",
    "prod3_irf_root = IRF_ROOT / \"CTA-Performance-prod3b-v2-South-20deg-S-50h.root\"\n",
    "\n",
    "\n",
    "prod5_irf_fits = IRF_ROOT / 'Prod5-South-20deg-SouthAz-14MSTs37SSTs.180000s-v0.1.fits.gz'\n",
    "prod5_irf_root = IRF_ROOT / 'Prod5-South-20deg-SouthAz-14MSTs37SSTs.180000s-v0.1.root'"
   ]
  },
  {
   "cell_type": "code",
   "execution_count": 41,
   "id": "0408dadc-a017-43e6-b27f-c984f370476b",
   "metadata": {
    "execution": {
     "iopub.execute_input": "2024-08-05T16:23:32.814540Z",
     "iopub.status.busy": "2024-08-05T16:23:32.812824Z",
     "iopub.status.idle": "2024-08-05T16:23:33.056645Z",
     "shell.execute_reply": "2024-08-05T16:23:33.055794Z",
     "shell.execute_reply.started": "2024-08-05T16:23:32.814444Z"
    }
   },
   "outputs": [
    {
     "name": "stderr",
     "output_type": "stream",
     "text": [
      "WARNING: UnitsWarning: '1/(MeV s sr)' did not parse as fits unit: Numeric factor not supported by FITS If this is meant to be a custom unit, define it with 'u.def_unit'. To have it recognized inside a file reader or other code, enable it with 'u.add_enabled_units'. For details, see https://docs.astropy.org/en/latest/units/combining_and_defining.html [astropy.units.core]\n",
      "WARNING:astropy:UnitsWarning: '1/(MeV s sr)' did not parse as fits unit: Numeric factor not supported by FITS If this is meant to be a custom unit, define it with 'u.def_unit'. To have it recognized inside a file reader or other code, enable it with 'u.add_enabled_units'. For details, see https://docs.astropy.org/en/latest/units/combining_and_defining.html\n",
      "WARNING:gammapy.irf.background:Invalid unit found in background table! Assuming (s-1 MeV-1 sr-1)\n"
     ]
    }
   ],
   "source": [
    "prod5_sens, p5_en = load_sensitivity(prod5_irf_root)\n",
    "irf_tab_p5 = load_irf_with_rad_max(prod5_irf_fits, prod5_irf_root)\n",
    "prod3_sens, p3_en = load_sensitivity(prod3_irf_root)\n",
    "irf_tab_p3 = load_irf_with_rad_max(prod3_irf_fits, prod3_irf_root)\n"
   ]
  },
  {
   "cell_type": "markdown",
   "id": "5c146415-7e04-4a2c-b080-69b4675fbddc",
   "metadata": {},
   "source": [
    "# Calculate and plot sensitivities"
   ]
  },
  {
   "cell_type": "code",
   "execution_count": 42,
   "id": "00b9a9ee-bc31-46b4-8aa2-9715b3543470",
   "metadata": {
    "execution": {
     "iopub.execute_input": "2024-08-05T16:23:35.869302Z",
     "iopub.status.busy": "2024-08-05T16:23:35.868334Z",
     "iopub.status.idle": "2024-08-05T16:23:38.394425Z",
     "shell.execute_reply": "2024-08-05T16:23:38.393908Z",
     "shell.execute_reply.started": "2024-08-05T16:23:35.869210Z"
    }
   },
   "outputs": [
    {
     "name": "stderr",
     "output_type": "stream",
     "text": [
      "WARNING:root:Table column name energy will be deprecated by e_ref since v1.2\n",
      "/local/home/tb273079/miniconda3/envs/gp-sensitivity/lib/python3.12/site-packages/astropy/units/quantity.py:671: RuntimeWarning: divide by zero encountered in divide\n",
      "  result = super().__array_ufunc__(function, method, *arrays, **kwargs)\n",
      "WARNING:root:Table column name energy will be deprecated by e_ref since v1.2\n"
     ]
    },
    {
     "data": {
      "text/plain": [
       "<matplotlib.legend.Legend at 0x7f361c8c6fc0>"
      ]
     },
     "execution_count": 42,
     "metadata": {},
     "output_type": "execute_result"
    },
    {
     "data": {
      "image/png": "[encoded data removed]",
      "text/plain": [
       "<Figure size 1000x500 with 1 Axes>"
      ]
     },
     "metadata": {},
     "output_type": "display_data"
    },
    {
     "data": {
      "image/png": "[encoded data removed]",
      "text/plain": [
       "<Figure size 1000x500 with 1 Axes>"
      ]
     },
     "metadata": {},
     "output_type": "display_data"
    }
   ],
   "source": [
    "p3_gE, p3_gSens, _ = gp_sensitivity_curve(irf_tab_p3, p3_en, enclosure=True, conf={\"on_region\": 0.3 * u.deg})\n",
    "p5_gE, p5_gSens, _ = gp_sensitivity_curve(irf_tab_p5, p5_en, enclosure=True, conf={\"on_region\": 0.3 * u.deg})\n",
    "\n",
    "fig, ax = plt.subplots(1, 1, figsize=(10, 5))\n",
    "plt.step(p3_gE, p3_gSens, label=\"Prod3 + gammapy\")\n",
    "plt.stairs(prod5_sens, p3_en, label=\"Prod3 root 'DiffSens'\")\n",
    "plt.title(\"Prod 3\")\n",
    "\n",
    "plt.ylim(4e-15, 1e-8)\n",
    "plt.loglog()\n",
    "plt.legend()\n",
    "\n",
    "fig, ax = plt.subplots(1, 1, figsize=(10, 5))\n",
    "plt.step(p5_gE, p5_gSens, label=\"Prod5 + gammapy\")\n",
    "plt.stairs(prod5_sens, p5_en, label=\"Prod5 root 'DiffSens'\")\n",
    "plt.title(\"Prod 5\")\n",
    "\n",
    "plt.ylim(4e-15, 1e-8)\n",
    "plt.loglog()\n",
    "plt.legend()"
   ]
  },
  {
   "cell_type": "code",
   "execution_count": null,
   "id": "b32c5b89-5318-4679-a7a1-313f60ac197c",
   "metadata": {},
   "outputs": [],
   "source": []
  }
 ],
 "metadata": {
  "kernelspec": {
   "display_name": "Python:python3 [conda env:gp-sensitivity]",
   "language": "python",
   "name": "conda-env-gp-sensitivity-py"
  },
  "language_info": {
   "codemirror_mode": {
    "name": "ipython",
    "version": 3
   },
   "file_extension": ".py",
   "mimetype": "text/x-python",
   "name": "python",
   "nbconvert_exporter": "python",
   "pygments_lexer": "ipython3",
   "version": "3.12.4"
  }
 },
 "nbformat": 4,
 "nbformat_minor": 5
}
