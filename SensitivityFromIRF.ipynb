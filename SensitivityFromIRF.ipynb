{
 "cells": [
  {
   "cell_type": "markdown",
   "id": "b4866b72-1d58-40a1-8389-0c967731147d",
   "metadata": {},
   "source": [
    "# Gammapy imports"
   ]
  },
  {
   "cell_type": "code",
   "execution_count": 21,
   "id": "9ae2b3b6-822f-4670-89f6-ae8a99584ca3",
   "metadata": {
    "execution": {
     "iopub.execute_input": "2024-08-04T14:10:08.905784Z",
     "iopub.status.busy": "2024-08-04T14:10:08.905627Z",
     "iopub.status.idle": "2024-08-04T14:10:08.908796Z",
     "shell.execute_reply": "2024-08-04T14:10:08.908248Z",
     "shell.execute_reply.started": "2024-08-04T14:10:08.905772Z"
    }
   },
   "outputs": [],
   "source": [
    "from gammapy.estimators import SensitivityEstimator\n",
    "from gammapy.data import FixedPointingInfo, Observation, observatory_locations\n",
    "from gammapy.datasets import SpectrumDataset, SpectrumDatasetOnOff\n",
    "from gammapy.makers import SpectrumDatasetMaker\n",
    "from gammapy.maps import MapAxis, RegionGeom\n",
    "from gammapy.irf import load_irf_dict_from_file, RadMax2D\n",
    "from astropy.coordinates import SkyCoord\n",
    "from regions import CircleSkyRegion, PointSkyRegion\n",
    "from pathlib import Path\n"
   ]
  },
  {
   "cell_type": "markdown",
   "id": "34435e9f-dfd7-4eb0-bab7-fa01676811a2",
   "metadata": {},
   "source": [
    "# Further imports"
   ]
  },
  {
   "cell_type": "code",
   "execution_count": 87,
   "id": "43d03a7e-d73f-48af-ada0-39968c8e6e4a",
   "metadata": {
    "execution": {
     "iopub.execute_input": "2024-08-05T10:21:12.749196Z",
     "iopub.status.busy": "2024-08-05T10:21:12.748813Z",
     "iopub.status.idle": "2024-08-05T10:21:12.751811Z",
     "shell.execute_reply": "2024-08-05T10:21:12.751462Z",
     "shell.execute_reply.started": "2024-08-05T10:21:12.749182Z"
    }
   },
   "outputs": [],
   "source": [
    "import uproot\n",
    "\n",
    "import astropy.units as u\n",
    "import matplotlib.pyplot as plt\n",
    "import numpy as np\n",
    "\n",
    "from astropy.visualization import quantity_support\n",
    "quantity_support();"
   ]
  },
  {
   "cell_type": "markdown",
   "id": "18b9e878-fff0-4e20-bc22-0ffa0eec767a",
   "metadata": {
    "execution": {
     "iopub.execute_input": "2024-07-29T14:27:11.445877Z",
     "iopub.status.busy": "2024-07-29T14:27:11.445666Z",
     "iopub.status.idle": "2024-07-29T14:27:11.448416Z",
     "shell.execute_reply": "2024-07-29T14:27:11.447919Z",
     "shell.execute_reply.started": "2024-07-29T14:27:11.445861Z"
    }
   },
   "source": [
    "# Sensitivity function"
   ]
  },
  {
   "cell_type": "code",
   "execution_count": 42,
   "id": "e08906c8-053b-45fb-b6b6-323bb2fb51fa",
   "metadata": {
    "execution": {
     "iopub.execute_input": "2024-08-04T18:42:28.613596Z",
     "iopub.status.busy": "2024-08-04T18:42:28.613354Z",
     "iopub.status.idle": "2024-08-04T18:42:28.621413Z",
     "shell.execute_reply": "2024-08-04T18:42:28.620915Z",
     "shell.execute_reply.started": "2024-08-04T18:42:28.613577Z"
    }
   },
   "outputs": [],
   "source": [
    "def gp_sensitivity_curve(irfs, enclosure=True, conf={}):\n",
    "    energy_axis = MapAxis.from_energy_bounds(\n",
    "        conf.get(\"E_reco_min\",\n",
    "                 0.012589254 * u.TeV),\n",
    "        conf.get(\"E_reco_max\",\n",
    "                 199.526231 * u.TeV),\n",
    "        nbin=conf.get(\"E_reco_nbin\", 21)\n",
    "    )\n",
    "    energy_axis_true = MapAxis.from_energy_bounds(\n",
    "        conf.get(\"E_true_min\",\n",
    "                 0.01 * u.TeV),\n",
    "        conf.get(\"E_true_max\",\n",
    "                 100 * u.TeV),\n",
    "        nbin=conf.get(\"E_true_nbin\", 100),\n",
    "        name=\"energy_true\"\n",
    "    )\n",
    "    pointing = SkyCoord(ra=conf.get(\"point_ra\", 0 * u.deg), dec=conf.get(\"point_dec\", 0 * u.deg))\n",
    "    on_region_radius = conf.get(\"on_region\", 0.1 * u.deg)\n",
    "    offset = conf.get(\"point_offset\", 0.5 * u.deg)\n",
    "    offset_dir = conf.get(\"point_offset_dir\", 0.0 * u.deg)\n",
    "\n",
    "    pointing_info = FixedPointingInfo(fixed_icrs=pointing)\n",
    "    source_position = pointing.directional_offset_by(offset_dir, offset)\n",
    "    if enclosure:\n",
    "        on_region = CircleSkyRegion(source_position, radius=on_region_radius)\n",
    "    else:\n",
    "        on_region = PointSkyRegion(source_position)\n",
    "\n",
    "    geom = RegionGeom.create(on_region, axes=[energy_axis])\n",
    "    empty_dataset = SpectrumDataset.create(geom=geom, energy_axis_true=energy_axis_true)\n",
    "\n",
    "    location = observatory_locations[\"cta_south\"]\n",
    "    livetime = conf.get(\"livetime\", 50.0 * u.h)\n",
    "\n",
    "    obs = Observation.create(\n",
    "        pointing=pointing_info, irfs=irfs, livetime=livetime, location=location\n",
    "    )\n",
    "    spectrum_maker = SpectrumDatasetMaker(\n",
    "        selection=[\"exposure\", \"edisp\", \"background\"],\n",
    "        containment_correction=False,\n",
    "    )\n",
    "    dataset = spectrum_maker.run(empty_dataset, obs)\n",
    "    if enclosure:\n",
    "        containment = 0.68\n",
    "        dataset.exposure *= containment\n",
    "        on_radii = obs.psf.containment_radius(\n",
    "            energy_true=energy_axis.center, offset=offset, fraction=containment\n",
    "        )\n",
    "        factor = (1 - np.cos(on_radii)) / (1 - np.cos(on_region_radius))\n",
    "        dataset.background *= factor.value.reshape((-1, 1, 1))\n",
    "\n",
    "    dataset_on_off = SpectrumDatasetOnOff.from_spectrum_dataset(\n",
    "        dataset=dataset, acceptance=1, acceptance_off=5\n",
    "    )\n",
    "    sensitivity_estimator = SensitivityEstimator(\n",
    "        gamma_min=10,\n",
    "        n_sigma=5,\n",
    "        bkg_syst_fraction=0.05,\n",
    "    )\n",
    "    gp_sensitivity_table = sensitivity_estimator.run(dataset_on_off)\n",
    "    return gp_sensitivity_table[\"e_ref\"], gp_sensitivity_table[\"e2dnde\"], gp_sensitivity_table"
   ]
  },
  {
   "cell_type": "markdown",
   "id": "124d26df-de89-445f-a475-ff9ff1104615",
   "metadata": {},
   "source": [
    "# Load irfs"
   ]
  },
  {
   "cell_type": "code",
   "execution_count": 80,
   "id": "8e09c8e5-a8ce-4cb2-be37-b38a0e262f99",
   "metadata": {
    "execution": {
     "iopub.execute_input": "2024-08-05T10:07:09.908802Z",
     "iopub.status.busy": "2024-08-05T10:07:09.908604Z",
     "iopub.status.idle": "2024-08-05T10:07:09.912194Z",
     "shell.execute_reply": "2024-08-05T10:07:09.911860Z",
     "shell.execute_reply.started": "2024-08-05T10:07:09.908787Z"
    }
   },
   "outputs": [],
   "source": [
    "def load_sensitivity(root_file):\n",
    "    irf_root = uproot.open(root_file)\n",
    "    sens, sens_ebins = irf_root[\"DiffSens\"].to_numpy()\n",
    "    sens_ebins = 10**sens_ebins * u.TeV\n",
    "    sens = sens * u.erg / u.s / u.cm**2\n",
    "    return sens, sens_ebins\n",
    "\n",
    "\n",
    "def load_irf_with_rad_max(irf_file, root_file):\n",
    "    irf_root = uproot.open(root_file)\n",
    "    theta, log_E = irf_root['ThetaCut;1'].to_numpy()\n",
    "    Eaxes = MapAxis(10**log_E, name=\"energy\", unit=\"TeV\")\n",
    "    offset = MapAxis([0, 5], name=\"offset\", unit=\"degree\")\n",
    "\n",
    "    irf_table = load_irf_dict_from_file(irf_file)\n",
    "    irf_table[\"rad_max\"] = RadMax2D(\n",
    "        data=theta[..., np.newaxis],\n",
    "        axes=[Eaxes, offset],\n",
    "        unit=\"deg\",\n",
    "        interp_kwargs={\"method\": \"nearest\", \"fill_value\": None})\n",
    "    return irf_table"
   ]
  },
  {
   "cell_type": "code",
   "execution_count": 76,
   "id": "186818ce-7b22-4c35-b9b5-43194c468253",
   "metadata": {
    "execution": {
     "iopub.execute_input": "2024-08-05T10:03:26.848355Z",
     "iopub.status.busy": "2024-08-05T10:03:26.847994Z",
     "iopub.status.idle": "2024-08-05T10:03:26.850832Z",
     "shell.execute_reply": "2024-08-05T10:03:26.850419Z",
     "shell.execute_reply.started": "2024-08-05T10:03:26.848339Z"
    }
   },
   "outputs": [],
   "source": [
    "IRF_ROOT = Path(\"./IRFs/\")\n",
    "\n",
    "prod3_irf_fits = IRF_ROOT / \"Prod3_South_z20_S_50h_irf_file.fits\"\n",
    "prod3_irf_root = IRF_ROOT / \"CTA-Performance-prod3b-v2-South-20deg-S-50h.root\"\n",
    "\n",
    "\n",
    "prod5_irf_fits = IRF_ROOT / 'Prod5-South-20deg-SouthAz-14MSTs37SSTs.180000s-v0.1.fits.gz'\n",
    "prod5_irf_root = IRF_ROOT / 'Prod5-South-20deg-SouthAz-14MSTs37SSTs.180000s-v0.1.root'"
   ]
  },
  {
   "cell_type": "code",
   "execution_count": 81,
   "id": "0408dadc-a017-43e6-b27f-c984f370476b",
   "metadata": {
    "execution": {
     "iopub.execute_input": "2024-08-05T10:07:10.883070Z",
     "iopub.status.busy": "2024-08-05T10:07:10.882892Z",
     "iopub.status.idle": "2024-08-05T10:07:10.988904Z",
     "shell.execute_reply": "2024-08-05T10:07:10.988593Z",
     "shell.execute_reply.started": "2024-08-05T10:07:10.883059Z"
    }
   },
   "outputs": [
    {
     "name": "stderr",
     "output_type": "stream",
     "text": [
      "WARNING: UnitsWarning: '1/(MeV s sr)' did not parse as fits unit: Numeric factor not supported by FITS If this is meant to be a custom unit, define it with 'u.def_unit'. To have it recognized inside a file reader or other code, enable it with 'u.add_enabled_units'. For details, see https://docs.astropy.org/en/latest/units/combining_and_defining.html [astropy.units.core]\n",
      "WARNING:astropy:UnitsWarning: '1/(MeV s sr)' did not parse as fits unit: Numeric factor not supported by FITS If this is meant to be a custom unit, define it with 'u.def_unit'. To have it recognized inside a file reader or other code, enable it with 'u.add_enabled_units'. For details, see https://docs.astropy.org/en/latest/units/combining_and_defining.html\n",
      "WARNING:gammapy.irf.background:Invalid unit found in background table! Assuming (s-1 MeV-1 sr-1)\n"
     ]
    }
   ],
   "source": [
    "prod5_sens, p5_en = load_sensitivity(prod5_irf_root)\n",
    "irf_tab_p5 = load_irf_with_rad_max(prod5_irf_fits, prod5_irf_root)\n",
    "prod3_sens, p3_en = load_sensitivity(prod3_irf_root)\n",
    "irf_tab_p3 = load_irf_with_rad_max(prod3_irf_fits, prod3_irf_root)\n"
   ]
  },
  {
   "cell_type": "markdown",
   "id": "5c146415-7e04-4a2c-b080-69b4675fbddc",
   "metadata": {},
   "source": [
    "# Calculate and plot sensitivities"
   ]
  },
  {
   "cell_type": "code",
   "execution_count": 84,
   "id": "00b9a9ee-bc31-46b4-8aa2-9715b3543470",
   "metadata": {
    "execution": {
     "iopub.execute_input": "2024-08-05T10:20:25.269477Z",
     "iopub.status.busy": "2024-08-05T10:20:25.269266Z",
     "iopub.status.idle": "2024-08-05T10:20:25.285387Z",
     "shell.execute_reply": "2024-08-05T10:20:25.284613Z",
     "shell.execute_reply.started": "2024-08-05T10:20:25.269464Z"
    }
   },
   "outputs": [
    {
     "ename": "NameError",
     "evalue": "name 'u' is not defined",
     "output_type": "error",
     "traceback": [
      "\u001b[0;31m---------------------------------------------------------------------------\u001b[0m",
      "\u001b[0;31mNameError\u001b[0m                                 Traceback (most recent call last)",
      "Cell \u001b[0;32mIn[84], line 1\u001b[0m\n\u001b[0;32m----> 1\u001b[0m p3_gE, p3_gSens, _ \u001b[38;5;241m=\u001b[39m gp_sensitivity_curve(irf_tab_p3, enclosure\u001b[38;5;241m=\u001b[39m\u001b[38;5;28;01mTrue\u001b[39;00m, conf\u001b[38;5;241m=\u001b[39m{\u001b[38;5;124m\"\u001b[39m\u001b[38;5;124mon_region\u001b[39m\u001b[38;5;124m\"\u001b[39m: \u001b[38;5;241m0.1\u001b[39m \u001b[38;5;241m*\u001b[39m \u001b[43mu\u001b[49m\u001b[38;5;241m.\u001b[39mdeg})\n\u001b[1;32m      2\u001b[0m p5_gE, p5_gSens, _ \u001b[38;5;241m=\u001b[39m gp_sensitivity_curve(irf_tab_p5, enclosure\u001b[38;5;241m=\u001b[39m\u001b[38;5;28;01mTrue\u001b[39;00m, conf\u001b[38;5;241m=\u001b[39m{\u001b[38;5;124m\"\u001b[39m\u001b[38;5;124mon_region\u001b[39m\u001b[38;5;124m\"\u001b[39m: \u001b[38;5;241m0.1\u001b[39m \u001b[38;5;241m*\u001b[39m u\u001b[38;5;241m.\u001b[39mdeg})\n\u001b[1;32m      4\u001b[0m fig, ax \u001b[38;5;241m=\u001b[39m plt\u001b[38;5;241m.\u001b[39msubplots(\u001b[38;5;241m1\u001b[39m, \u001b[38;5;241m1\u001b[39m, figsize\u001b[38;5;241m=\u001b[39m(\u001b[38;5;241m10\u001b[39m, \u001b[38;5;241m5\u001b[39m))\n",
      "\u001b[0;31mNameError\u001b[0m: name 'u' is not defined"
     ]
    }
   ],
   "source": [
    "p3_gE, p3_gSens, _ = gp_sensitivity_curve(irf_tab_p3, enclosure=True, conf={\"on_region\": 0.1 * u.deg})\n",
    "p5_gE, p5_gSens, _ = gp_sensitivity_curve(irf_tab_p5, enclosure=True, conf={\"on_region\": 0.1 * u.deg})\n",
    "\n",
    "fig, ax = plt.subplots(1, 1, figsize=(10, 5))\n",
    "plt.step(p3_gE, p3_gSens, label=\"Prod3 + gammapy\")\n",
    "plt.stairs(prod5_sens, p3_en, label=\"Prod3 root 'DiffSens'\")\n",
    "plt.title(\"Prod 3\")\n",
    "\n",
    "plt.ylim(4e-15, 1e-8)\n",
    "plt.loglog()\n",
    "plt.legend()\n",
    "\n",
    "fig, ax = plt.subplots(1, 1, figsize=(10, 5))\n",
    "plt.step(p5_gE, p5_gSens, label=\"Prod5 + gammapy\")\n",
    "plt.stairs(prod5_sens, p5_en, label=\"Prod5 root 'DiffSens'\")\n",
    "plt.title(\"Prod 5\")\n",
    "\n",
    "plt.ylim(4e-15, 1e-8)\n",
    "plt.loglog()\n",
    "plt.legend()"
   ]
  },
  {
   "cell_type": "code",
   "execution_count": null,
   "id": "38b18c0a-2e6d-4ec9-8b58-aa970a8953f4",
   "metadata": {},
   "outputs": [],
   "source": []
  }
 ],
 "metadata": {
  "kernelspec": {
   "display_name": "Python:python3 [conda env:irf-tool]",
   "language": "python",
   "name": "conda-env-irf-tool-py"
  },
  "language_info": {
   "codemirror_mode": {
    "name": "ipython",
    "version": 3
   },
   "file_extension": ".py",
   "mimetype": "text/x-python",
   "name": "python",
   "nbconvert_exporter": "python",
   "pygments_lexer": "ipython3",
   "version": "3.11.9"
  }
 },
 "nbformat": 4,
 "nbformat_minor": 5
}
